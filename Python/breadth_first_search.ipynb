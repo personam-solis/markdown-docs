{
 "cells": [
  {
   "cell_type": "markdown",
   "source": [
    "# BFS\n"
   ],
   "metadata": {
    "collapsed": false
   },
   "id": "c6a4fb9d56b8b1e4"
  },
  {
   "cell_type": "code",
   "outputs": [],
   "source": [
    "graph = [\n",
    "    [1, 0, 1, 1, 0, 0],\n",
    "    [1, 1, 0, 1, 0, 0],\n",
    "    [0, 1, 1, 0, 0, 1],\n",
    "    [0, 0, 0, 1, 0, 1]\n",
    "]"
   ],
   "metadata": {
    "collapsed": false,
    "ExecuteTime": {
     "end_time": "2024-03-23T22:02:25.052755Z",
     "start_time": "2024-03-23T22:02:25.048102Z"
    }
   },
   "id": "ae3be92a1fa0c6dd",
   "execution_count": 1
  },
  {
   "cell_type": "code",
   "outputs": [],
   "source": [
    "\n",
    "class FindIslands:\n",
    "    \n",
    "    def num_islands(self, grid: list[list[int]]) -> int:\n",
    "        \n",
    "        # Get the rows in the graph by counting the number of lists in the list\n",
    "        rows = len(grid)\n",
    "        \n",
    "        # Get the columns by selecting the first list in the array and counting the elements\n",
    "        cols = len(grid[0])\n",
    "        \n",
    "        # Keep track of visited nodes without duplicates (will be a tuple later)\n",
    "        visited = set()\n",
    "        \n",
    "        # Initialize the result\n",
    "        result = 0\n",
    "    \n",
    "    \n",
    "        # Define the breadth-first search    \n",
    "        def bfs(row, column):\n",
    "            \n",
    "            if (row, column) in visited:\n",
    "                # if the location as a tuple is in visited exit function\n",
    "                return\n",
    "            \n",
    "            # if it has not been visited, visit now\n",
    "            # Add the tuple to the visited set\n",
    "            visited.add((row, column))\n",
    "            \n",
    "            # Define the directions to search\n",
    "            #              up      down     left     right\n",
    "            directions = [[1, 0], [-1, 0], [0, 1], [0, -1]]\n",
    "            \n",
    "            # for each direction...\n",
    "            for direction_row, direction_column in directions:\n",
    "                \n",
    "                # set a new location of the node\n",
    "                new_row = direction_row + row\n",
    "                new_col = direction_column + column\n",
    "                \n",
    "                # if the new row and column exist and the node is land, continue\n",
    "                if (new_row in range(rows) and\n",
    "                    new_col in range(cols) and\n",
    "                    grid[new_row][new_col] == 1):\n",
    "                    \n",
    "                    # Recursively check if the new coordinate is also land\n",
    "                    # this will continue until all nodes have been visited\n",
    "                    bfs(new_row, new_col)\n",
    "                    \n",
    "        # Start the algorithm\n",
    "        for row in range(rows):\n",
    "            for column in range(cols):\n",
    "                # as long as it has not been visited, start the search\n",
    "                if grid[row][column] == 1 and (row, column) not in visited:\n",
    "                    bfs(row, column)\n",
    "                    result += 1\n",
    "                    \n",
    "        return result"
   ],
   "metadata": {
    "collapsed": false,
    "ExecuteTime": {
     "end_time": "2024-03-23T22:33:01.637362Z",
     "start_time": "2024-03-23T22:33:01.631345Z"
    }
   },
   "id": "5e75d38f32ae07d1",
   "execution_count": 3
  },
  {
   "cell_type": "code",
   "outputs": [
    {
     "data": {
      "text/plain": "4"
     },
     "execution_count": 4,
     "metadata": {},
     "output_type": "execute_result"
    }
   ],
   "source": [
    "FindIslands().num_islands(graph)"
   ],
   "metadata": {
    "collapsed": false,
    "ExecuteTime": {
     "end_time": "2024-03-23T22:34:17.837011Z",
     "start_time": "2024-03-23T22:34:17.831676Z"
    }
   },
   "id": "bf704769eeea86d0",
   "execution_count": 4
  }
 ],
 "metadata": {
  "kernelspec": {
   "display_name": "Python 3",
   "language": "python",
   "name": "python3"
  },
  "language_info": {
   "codemirror_mode": {
    "name": "ipython",
    "version": 2
   },
   "file_extension": ".py",
   "mimetype": "text/x-python",
   "name": "python",
   "nbconvert_exporter": "python",
   "pygments_lexer": "ipython2",
   "version": "2.7.6"
  }
 },
 "nbformat": 4,
 "nbformat_minor": 5
}
